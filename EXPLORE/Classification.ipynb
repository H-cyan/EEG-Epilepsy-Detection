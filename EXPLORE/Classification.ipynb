{
 "metadata": {
  "language_info": {
   "codemirror_mode": {
    "name": "ipython",
    "version": 3
   },
   "file_extension": ".py",
   "mimetype": "text/x-python",
   "name": "python",
   "nbconvert_exporter": "python",
   "pygments_lexer": "ipython3",
   "version": "3.8.10"
  },
  "orig_nbformat": 2,
  "kernelspec": {
   "name": "python3",
   "display_name": "Python 3.8.10 64-bit ('base': conda)"
  },
  "interpreter": {
   "hash": "b3ba2566441a7c06988d0923437866b63cedc61552a5af99d1f4fb67d367b25f"
  }
 },
 "nbformat": 4,
 "nbformat_minor": 2,
 "cells": [
  {
   "source": [
    "# Classification\n",
    "2021.6.8"
   ],
   "cell_type": "markdown",
   "metadata": {}
  },
  {
   "cell_type": "code",
   "execution_count": 1,
   "metadata": {},
   "outputs": [],
   "source": [
    "import numpy as np\n",
    "import pandas as pd\n",
    "\n",
    "from sklearn.decomposition import PCA\n",
    "\n",
    "from sklearn.preprocessing import StandardScaler\n",
    "from sklearn.model_selection import GridSearchCV\n",
    "from sklearn.metrics import classification_report\n",
    "\n",
    "from sklearn.svm import SVC\n",
    "from sklearn.model_selection import train_test_split\n",
    "from sklearn.metrics import accuracy_score,confusion_matrix\n",
    "from mlxtend.plotting import plot_decision_regions\n",
    "\n",
    "from sklearn import tree\n",
    "\n",
    "\n",
    "import joblib\n",
    "\n",
    "import matplotlib.pyplot as plt\n",
    "import seaborn as sns"
   ]
  },
  {
   "source": [
    "## Process data"
   ],
   "cell_type": "markdown",
   "metadata": {}
  },
  {
   "cell_type": "code",
   "execution_count": 5,
   "metadata": {},
   "outputs": [
    {
     "output_type": "execute_result",
     "data": {
      "text/plain": [
       "       ApEn  peek         RMS  mean frequency  label\n",
       "0  0.067594     9  472.682642             3.5      1\n",
       "1  0.037022    10  155.184031             5.0      1\n",
       "2  0.009688     9  304.301872             5.5      1\n",
       "3  0.029392    12  558.420084             7.5      1\n",
       "4  0.052558     7  151.881867             3.0      1\n",
       "5  0.014919    11  138.696101             3.5      1\n",
       "6  0.028359    11  434.538039            11.5      1\n",
       "7  0.017113    13  231.930831             3.0      1\n",
       "8  0.029919     9  177.993019             1.5      1\n",
       "9  0.029906    16  531.765711            15.5      1"
      ],
      "text/html": "<div>\n<style scoped>\n    .dataframe tbody tr th:only-of-type {\n        vertical-align: middle;\n    }\n\n    .dataframe tbody tr th {\n        vertical-align: top;\n    }\n\n    .dataframe thead th {\n        text-align: right;\n    }\n</style>\n<table border=\"1\" class=\"dataframe\">\n  <thead>\n    <tr style=\"text-align: right;\">\n      <th></th>\n      <th>ApEn</th>\n      <th>peek</th>\n      <th>RMS</th>\n      <th>mean frequency</th>\n      <th>label</th>\n    </tr>\n  </thead>\n  <tbody>\n    <tr>\n      <th>0</th>\n      <td>0.067594</td>\n      <td>9</td>\n      <td>472.682642</td>\n      <td>3.5</td>\n      <td>1</td>\n    </tr>\n    <tr>\n      <th>1</th>\n      <td>0.037022</td>\n      <td>10</td>\n      <td>155.184031</td>\n      <td>5.0</td>\n      <td>1</td>\n    </tr>\n    <tr>\n      <th>2</th>\n      <td>0.009688</td>\n      <td>9</td>\n      <td>304.301872</td>\n      <td>5.5</td>\n      <td>1</td>\n    </tr>\n    <tr>\n      <th>3</th>\n      <td>0.029392</td>\n      <td>12</td>\n      <td>558.420084</td>\n      <td>7.5</td>\n      <td>1</td>\n    </tr>\n    <tr>\n      <th>4</th>\n      <td>0.052558</td>\n      <td>7</td>\n      <td>151.881867</td>\n      <td>3.0</td>\n      <td>1</td>\n    </tr>\n    <tr>\n      <th>5</th>\n      <td>0.014919</td>\n      <td>11</td>\n      <td>138.696101</td>\n      <td>3.5</td>\n      <td>1</td>\n    </tr>\n    <tr>\n      <th>6</th>\n      <td>0.028359</td>\n      <td>11</td>\n      <td>434.538039</td>\n      <td>11.5</td>\n      <td>1</td>\n    </tr>\n    <tr>\n      <th>7</th>\n      <td>0.017113</td>\n      <td>13</td>\n      <td>231.930831</td>\n      <td>3.0</td>\n      <td>1</td>\n    </tr>\n    <tr>\n      <th>8</th>\n      <td>0.029919</td>\n      <td>9</td>\n      <td>177.993019</td>\n      <td>1.5</td>\n      <td>1</td>\n    </tr>\n    <tr>\n      <th>9</th>\n      <td>0.029906</td>\n      <td>16</td>\n      <td>531.765711</td>\n      <td>15.5</td>\n      <td>1</td>\n    </tr>\n  </tbody>\n</table>\n</div>"
     },
     "metadata": {},
     "execution_count": 5
    }
   ],
   "source": [
    "feature = pd.read_csv(r'data\\feature.csv', index_col=0)\n",
    "feature.head(10)"
   ]
  },
  {
   "source": [
    "## PCA"
   ],
   "cell_type": "markdown",
   "metadata": {}
  },
  {
   "cell_type": "code",
   "execution_count": 6,
   "metadata": {},
   "outputs": [
    {
     "output_type": "stream",
     "name": "stdout",
     "text": [
      "[9.98322580e-01 1.23689664e-03 4.40513438e-04 9.65971015e-09]\n"
     ]
    }
   ],
   "source": [
    "pca = PCA()\n",
    "newX = pca.fit_transform(np.array(feature.drop('label', axis=1)))\n",
    "print(pca.explained_variance_ratio_)"
   ]
  },
  {
   "source": [
    "## SVM"
   ],
   "cell_type": "markdown",
   "metadata": {}
  },
  {
   "cell_type": "code",
   "execution_count": 10,
   "metadata": {},
   "outputs": [],
   "source": [
    "x_train,x_test,y_train,y_test = train_test_split(feature[['ApEn', 'RMS']], feature['label'], test_size=0.3, random_state=0)"
   ]
  },
  {
   "cell_type": "code",
   "execution_count": null,
   "metadata": {},
   "outputs": [],
   "source": [
    "x_train.to_csv('x_train.csv')\n",
    "y_train.to_csv('y_train.csv')\n",
    "x_test.to_csv('x_test.csv')\n",
    "y_test.to_csv('y_test.csv')"
   ]
  },
  {
   "cell_type": "code",
   "execution_count": null,
   "metadata": {},
   "outputs": [],
   "source": [
    "x_train = StandardScaler().fit_transform(x_train)"
   ]
  },
  {
   "cell_type": "code",
   "execution_count": null,
   "metadata": {},
   "outputs": [],
   "source": [
    "svm = SVC(kernel='rbf')\n",
    "svm.fit(x_train, y_train)\n",
    "\n",
    "plt.figure(figsize = (10,6))\n",
    "plot_decision_regions(np.array(x_train), np.array(y_train), clf=svm, legend=2)\n",
    "\n",
    "plt.xlabel('ApEn')\n",
    "plt.ylabel('RMS')\n",
    "plt.title('Classification with SVM method.', y=-0.15)\n",
    "plt.savefig('SVM.png', dpi=600)\n",
    "\n",
    "joblib.dump(svm, \"EEG_svm.m\")\n",
    "\n",
    "print(svm.score(x_train, y_train)) # 精度\n",
    "print('Accuracy:', accuracy_score(y_test, svm.predict(x_test)))"
   ]
  },
  {
   "source": [
    "## Grid Search"
   ],
   "cell_type": "markdown",
   "metadata": {}
  },
  {
   "cell_type": "code",
   "execution_count": null,
   "metadata": {},
   "outputs": [],
   "source": [
    "search_model = GridSearchCV(SVC(kernal='rbf'), {'C':[0.1, 1, 10], 'gamma':[1, 0.1, 0.01]}, cv=4)\n",
    "search_model.fit(x_train, y_train)\n",
    "for p, s in zip(search_model.cv_results_['params'], search_model.cv_results_['mean_test_score']):\n",
    "    print(p, s)\n",
    "\n",
    "print(search_model.best_params_)\n",
    "\n",
    "print(search_model.best_score_)\n",
    "print(search_model.best_estimator_)\n",
    "\n",
    "print(classification_report(y_test, search_model.predict(StandardScaler().fit_transform(x_test))))"
   ]
  },
  {
   "source": [
    "{'C': 0.1, 'gamma': 1} 0.9595029796383152\n",
    "{'C': 0.1, 'gamma': 0.1} 0.9521737557763207\n",
    "{'C': 0.1, 'gamma': 0.01} 0.9351558927606739\n",
    "{'C': 1, 'gamma': 1} 0.9607452774658556\n",
    "{'C': 1, 'gamma': 0.1} 0.9591302162188321\n",
    "{'C': 1, 'gamma': 0.01} 0.9511800903471374\n",
    "{'C': 10, 'gamma': 1} 0.9599999358049418\n",
    "{'C': 10, 'gamma': 0.1} 0.9604967685195336\n",
    "{'C': 10, 'gamma': 0.01} 0.9563977906036212\n",
    "{'C': 1, 'gamma': 1}\n",
    "0.9607452774658556\n",
    "SVC(C=1, gamma=1)"
   ],
   "cell_type": "code",
   "metadata": {},
   "execution_count": null,
   "outputs": []
  },
  {
   "cell_type": "code",
   "execution_count": null,
   "metadata": {},
   "outputs": [],
   "source": [
    "              precision    recall  f1-score   support\n",
    "\n",
    "           0       0.98      0.97      0.98      2785\n",
    "           1       0.90      0.92      0.91       665\n",
    "\n",
    "    accuracy                           0.96      3450\n",
    "   macro avg       0.94      0.95      0.94      3450\n",
    "weighted avg       0.96      0.96      0.96      3450\n"
   ]
  },
  {
   "source": [
    "### RMS-mean f"
   ],
   "cell_type": "markdown",
   "metadata": {}
  },
  {
   "cell_type": "code",
   "execution_count": null,
   "metadata": {},
   "outputs": [],
   "source": [
    "{'C': 0.1, 'gamma': 1} 0.9592546558700454\n",
    "{'C': 0.1, 'gamma': 0.1} 0.9481987854294995\n",
    "{'C': 0.1, 'gamma': 0.01} 0.9325468574543795\n",
    "{'C': 1, 'gamma': 1} 0.9636025130883847\n",
    "{'C': 1, 'gamma': 0.1} 0.9586331983261879\n",
    "{'C': 1, 'gamma': 0.01} 0.9475776982417468\n",
    "{'C': 10, 'gamma': 1} 0.9648448726419427\n",
    "{'C': 10, 'gamma': 0.1} 0.9599997506268895\n",
    "{'C': 10, 'gamma': 0.01} 0.9540372642436488\n",
    "{'C': 10, 'gamma': 1}\n",
    "0.9648448726419427\n",
    "SVC(C=10, gamma=1)\n",
    "              precision    recall  f1-score   support\n",
    "\n",
    "           0       0.98      0.98      0.98      2785\n",
    "           1       0.90      0.92      0.91       665\n",
    "\n",
    "    accuracy                           0.96      3450\n",
    "   macro avg       0.94      0.95      0.94      3450\n",
    "weighted avg       0.96      0.96      0.96      3450"
   ]
  },
  {
   "cell_type": "code",
   "execution_count": null,
   "metadata": {},
   "outputs": [],
   "source": []
  },
  {
   "source": [
    "## Decision tree"
   ],
   "cell_type": "markdown",
   "metadata": {}
  },
  {
   "cell_type": "code",
   "execution_count": null,
   "metadata": {},
   "outputs": [],
   "source": [
    "x_dttrain,x_dttest,y_dttrain,y_dttest = train_test_split(feature[['ApEn', 'peek', 'RMS', 'mean frequency']], feature['label'], test_size=0.3, random_state=0)\n",
    "\n",
    "x_dttrain.to_csv('x_dttrain.csv')\n",
    "y_dttrain.to_csv('y_dttrain.csv')\n",
    "x_dttest.to_csv('x_dttest.csv')\n",
    "y_dttest.to_csv('y_dttest.csv')"
   ]
  },
  {
   "cell_type": "code",
   "execution_count": null,
   "metadata": {},
   "outputs": [],
   "source": [
    "dtree = tree.DecisionTreeClassifier(random_state=30, max_depth=3, min_samples_leaf=100, min_samples_split=100) #实例化\n",
    "dtree = dtree.fit(x_dttrain,y_dttrain) \n",
    "result = dtree.score(x_dttest,y_dttest)\n",
    "# 0.9637681159420289"
   ]
  },
  {
   "cell_type": "code",
   "execution_count": null,
   "metadata": {},
   "outputs": [],
   "source": [
    "fig, axes = plt.subplots(nrows = 1,ncols = 1,figsize = (4,4), dpi=600)\n",
    "fn = ['ApEn', 'peek', 'RMS', 'mean frequency']\n",
    "tree.plot_tree(dtree,\n",
    "               feature_names = fn, \n",
    "               class_names=['Normal', 'Epilepsy'],\n",
    "               filled = True, rounded=True)\n",
    "fig.savefig('Decision tree.png', dpi=600)\n",
    "fig.savefig('Decision tree.pdf')"
   ]
  },
  {
   "cell_type": "code",
   "execution_count": null,
   "metadata": {},
   "outputs": [],
   "source": [
    "dtree.feature_importances_\n",
    "[*zip(feature_name,dtree.feature_importances_)]"
   ]
  },
  {
   "cell_type": "code",
   "execution_count": null,
   "metadata": {},
   "outputs": [],
   "source": [
    "[('ApEn', 0.0),\n",
    " ('peek', 0.03885787561867085),\n",
    " ('RMS', 0.9611421243813291),\n",
    " ('mean frequency', 0.0)]"
   ]
  },
  {
   "cell_type": "code",
   "execution_count": null,
   "metadata": {},
   "outputs": [],
   "source": [
    "print(classification_report(y_dttest, dtree.predict(x_dttest)))"
   ]
  },
  {
   "cell_type": "code",
   "execution_count": null,
   "metadata": {},
   "outputs": [],
   "source": [
    "\n",
    "              precision    recall  f1-score   support\n",
    "\n",
    "           0       0.97      0.98      0.98      2785\n",
    "           1       0.93      0.88      0.90       665\n",
    "\n",
    "    accuracy                           0.96      3450\n",
    "   macro avg       0.95      0.93      0.94      3450\n",
    "weighted avg       0.96      0.96      0.96      3450"
   ]
  },
  {
   "source": [
    "## exclude Peek "
   ],
   "cell_type": "markdown",
   "metadata": {}
  },
  {
   "cell_type": "code",
   "execution_count": null,
   "metadata": {},
   "outputs": [],
   "source": [
    "0.9585507246376812"
   ]
  },
  {
   "cell_type": "code",
   "execution_count": null,
   "metadata": {},
   "outputs": [],
   "source": [
    "              precision    recall  f1-score   support\n",
    "\n",
    "           0       0.97      0.98      0.97      2785\n",
    "           1       0.92      0.86      0.89       665\n",
    "\n",
    "    accuracy                           0.96      3450\n",
    "   macro avg       0.94      0.92      0.93      3450\n",
    "weighted avg       0.96      0.96      0.96      3450"
   ]
  },
  {
   "cell_type": "code",
   "execution_count": null,
   "metadata": {},
   "outputs": [],
   "source": [
    "[('ApEn', 0.014938370928239797),\n",
    " ('RMS', 0.9548974434188772),\n",
    " ('mean frequency', 0.030164185652883146)]"
   ]
  }
 ]
}