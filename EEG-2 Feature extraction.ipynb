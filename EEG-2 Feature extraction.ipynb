{
 "metadata": {
  "language_info": {
   "codemirror_mode": {
    "name": "ipython",
    "version": 3
   },
   "file_extension": ".py",
   "mimetype": "text/x-python",
   "name": "python",
   "nbconvert_exporter": "python",
   "pygments_lexer": "ipython3",
   "version": "3.8.10"
  },
  "orig_nbformat": 4,
  "kernelspec": {
   "name": "python3",
   "display_name": "Python 3.8.10 64-bit ('base': conda)"
  },
  "interpreter": {
   "hash": "b3ba2566441a7c06988d0923437866b63cedc61552a5af99d1f4fb67d367b25f"
  }
 },
 "nbformat": 4,
 "nbformat_minor": 2,
 "cells": [
  {
   "source": [
    "# EEG-2 Feature extraction"
   ],
   "cell_type": "markdown",
   "metadata": {}
  },
  {
   "cell_type": "code",
   "execution_count": 3,
   "metadata": {},
   "outputs": [],
   "source": [
    "import pandas as pd\n",
    "import numpy as np\n",
    "import librosa as lib\n",
    "from scipy.fftpack import fft, fftfreq"
   ]
  },
  {
   "cell_type": "code",
   "execution_count": 4,
   "metadata": {},
   "outputs": [],
   "source": [
    "df = pd.read_csv(r'data\\Epileptic Seizure Recognition.csv')\n",
    "df.drop('Unnamed', axis=1, inplace=True)\n",
    "\n",
    "data_nor = df[df['y']!=1].drop('y', axis=1)\n",
    "data_nor.reset_index(drop=True, inplace = True)\n",
    "data_epi = df[df['y']==1].drop('y', axis=1)\n",
    "data_epi.reset_index(drop=True, inplace = True)"
   ]
  },
  {
   "source": [
    "## ApEn"
   ],
   "cell_type": "markdown",
   "metadata": {}
  },
  {
   "cell_type": "code",
   "execution_count": 57,
   "metadata": {},
   "outputs": [],
   "source": [
    "def ApEn(U, m=30):\n",
    "    r = np.std(U)\n",
    "    def _maxdist(x_i, x_j):\n",
    "        return max([abs(ua - va) for ua, va in zip(x_i, x_j)])\n",
    "\n",
    "    def _phi(m):\n",
    "        x = [[U[j] for j in range(i, i + m - 1 + 1)] for i in range(N - m + 1)]\n",
    "        C = [len([1 for x_j in x if _maxdist(x_i, x_j) <= r]) / (N - m + 1.0) for x_i in x]\n",
    "        return (N - m + 1.0)**(-1) * sum(np.log(C))\n",
    "\n",
    "    N = len(U)\n",
    "\n",
    "    return abs(_phi(m+1) - _phi(m))"
   ]
  },
  {
   "source": [
    "## Mean frequency-fft"
   ],
   "cell_type": "markdown",
   "metadata": {}
  },
  {
   "cell_type": "code",
   "execution_count": 20,
   "metadata": {},
   "outputs": [],
   "source": [
    "def mean_freq(y):\n",
    "    fs = 178\n",
    "    # signal\n",
    "    t = np.linspace(0, 1, 178)\n",
    "    N = len(t)\n",
    "    # fft\n",
    "    yf = fft(y)\n",
    "    xf = fftfreq(N, 1/fs)[:N//2]\n",
    "    yf_nor = 2.0/N * np.abs(yf[0:N//2]) # normalization\n",
    "    xf_half = xf[:len(yf_nor)]\n",
    "    return np.mean(xf_half[yf_nor.argsort()[-2:]])"
   ]
  },
  {
   "source": [
    "## Peek"
   ],
   "cell_type": "markdown",
   "metadata": {}
  },
  {
   "cell_type": "code",
   "execution_count": 11,
   "metadata": {},
   "outputs": [],
   "source": [
    "data_nor_N = data_nor.sub(data_nor.mean(axis=1), axis=0)\n",
    "data_nor_pos = data_nor_N[data_nor_N > 0]\n",
    "data_nor_neg = data_nor_N[data_nor_N < 0]\n",
    "data_nor_pospeek = data_nor_N.sub(1.5*data_nor_pos.mean(axis=1), axis=0)\n",
    "data_nor_negpeek = data_nor_N.sub(1.5*data_nor_neg.mean(axis=1), axis=0)\n",
    "\n",
    "\n",
    "\n",
    "data_epi_N = data_epi.sub(data_epi.mean(axis=1), axis=0)\n",
    "data_epi_pos = data_epi_N[data_epi_N > 0]\n",
    "data_epi_neg = data_epi_N[data_epi_N < 0]\n",
    "data_epi_pospeek = data_epi_N.sub(1.5*data_epi_pos.mean(axis=1), axis=0)\n",
    "data_epi_negpeek = data_epi_N.sub(1.5*data_epi_neg.mean(axis=1), axis=0)"
   ]
  },
  {
   "cell_type": "code",
   "execution_count": 12,
   "metadata": {},
   "outputs": [],
   "source": [
    "def nor_SUM_peek(i):\n",
    "    pospeek = lib.zero_crossings(np.array(data_nor_pospeek.iloc[i]))\n",
    "    negpeek = lib.zero_crossings(np.array(data_nor_negpeek.iloc[i]))\n",
    "    return max(np.sum(pospeek==1), np.sum(negpeek==1))\n",
    "\n",
    "def epi_SUM_peek(i):\n",
    "    pospeek = lib.zero_crossings(np.array(data_epi_pospeek.iloc[i]))\n",
    "    negpeek = lib.zero_crossings(np.array(data_epi_negpeek.iloc[i]))\n",
    "    return max(np.sum(pospeek==1), np.sum(negpeek==1))"
   ]
  },
  {
   "source": [
    "## feature"
   ],
   "cell_type": "markdown",
   "metadata": {}
  },
  {
   "cell_type": "code",
   "execution_count": null,
   "metadata": {},
   "outputs": [],
   "source": [
    "feature = pd.DataFrame(columns=['ApEn', 'peek', 'RMS', 'mean frequency', 'label'])\n",
    "\n",
    "for i in np.arange(0, len(data_epi), 1):\n",
    "    apen = ApEn(np.array(data_epi.iloc[i]).astype(float))\n",
    "    peek = epi_SUM_peek(i)\n",
    "    rms = lib.feature.rms(y=np.array(data_epi.iloc[i]).astype(float))[0, 0]\n",
    "    meanf = mean_freq(np.array(data_epi.iloc[i]).astype(float))\n",
    "    feature = feature.append(pd.DataFrame({'ApEn':apen, 'peek':peek, 'RMS':rms, 'mean frequency':meanf, 'label':1}, index=[i]))\n",
    "\n",
    "for i in np.arange(0, len(data_nor), 1):\n",
    "    apen = ApEn(np.array(data_nor.iloc[i]).astype(float))\n",
    "    peek = nor_SUM_peek(i)\n",
    "    rms = lib.feature.rms(y=np.array(data_nor.iloc[i]).astype(float))[0, 0]\n",
    "    meanf = mean_freq(np.array(data_nor.iloc[i]).astype(float))\n",
    "    feature = feature.append(pd.DataFrame({'ApEn':apen, 'peek':peek, 'RMS':rms, 'label':0}, index=[i+2300]))\n",
    "feature.to_csv(r'feature.csv')"
   ]
  },
  {
   "cell_type": "code",
   "execution_count": null,
   "metadata": {},
   "outputs": [],
   "source": []
  }
 ]
}